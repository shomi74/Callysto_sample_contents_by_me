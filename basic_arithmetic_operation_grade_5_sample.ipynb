{
 "cells": [
  {
   "cell_type": "markdown",
   "metadata": {},
   "source": [
    "# Introduction to Basic Arithmetic Operation Using Python.\n",
    "-by Shomi Ahmed"
   ]
  },
  {
   "cell_type": "markdown",
   "metadata": {},
   "source": [
    "The basic arithmetic operations are :  \n",
    "                    - Addition\n",
    "                    - Subtraction\n",
    "                    - Multiplication\n",
    "                    - Division\n",
    "\n"
   ]
  },
  {
   "cell_type": "markdown",
   "metadata": {},
   "source": [
    "- **Addition**"
   ]
  },
  {
   "cell_type": "markdown",
   "metadata": {},
   "source": [
    "![Addition](https://www.helpfulgames.com/bilder/spel/addition.png)"
   ]
  },
  {
   "cell_type": "markdown",
   "metadata": {},
   "source": [
    "**Addition** yields the total by combining more than one numbers. \n",
    "\n",
    "For example: Suppose you have one ball and your friend has given you two more. So how many balls do you have?\n",
    "![Add_1](https://www.venturaes.com/iosapps/images/title_addition_facts.jpg)\n",
    "\n",
    "$\\boxed{6 + 3 = 9}$.\n",
    "\n",
    "We can make a function (a user created program) which will take two numbers and give the addition of them."
   ]
  },
  {
   "cell_type": "code",
   "execution_count": 2,
   "metadata": {},
   "outputs": [
    {
     "name": "stdout",
     "output_type": "stream",
     "text": [
      "9\n"
     ]
    }
   ],
   "source": [
    "def add_two_numbers(a,b):\n",
    "    c=a+b\n",
    "    return c\n",
    "print (add_two_numbers(6,3))\n"
   ]
  },
  {
   "cell_type": "markdown",
   "metadata": {},
   "source": [
    "Above, two inputs $\\boxed{6}$ $\\&$ $\\boxed{3}$ have been given in a function that is created to add two numbers. And which successfully yields output $\\boxed{9}$ as expected.\n",
    "\n",
    "Let's make another function which will add five numbers."
   ]
  },
  {
   "cell_type": "code",
   "execution_count": 3,
   "metadata": {},
   "outputs": [
    {
     "name": "stdout",
     "output_type": "stream",
     "text": [
      "15\n"
     ]
    }
   ],
   "source": [
    "def add_five_numbers(a,b,c,d,e):\n",
    "    f=a+b+c+d+e\n",
    "    return f\n",
    "print (add_five_numbers(1,2,3,4,5))\n"
   ]
  },
  {
   "cell_type": "markdown",
   "metadata": {},
   "source": [
    "Above, five inputs $\\boxed{1}$, $\\boxed{2}$, $\\boxed{3}$, $\\boxed{4}$ $\\&$ $\\boxed{5}$ have been given in a function that is created to add five numbers. And which successfully yields output $\\boxed{15}$ as expected.\n"
   ]
  },
  {
   "cell_type": "markdown",
   "metadata": {},
   "source": [
    "${\\bf Subtraction}$ yields the remaining by taking one number away from another.\n",
    "\n",
    "For example: $\\boxed{6 - 3 = 3}$.\n",
    "\n",
    "Let's make a function which will take two numbers and give the substraction of second number from the first."
   ]
  },
  {
   "cell_type": "code",
   "execution_count": 4,
   "metadata": {},
   "outputs": [
    {
     "name": "stdout",
     "output_type": "stream",
     "text": [
      "3\n"
     ]
    }
   ],
   "source": [
    "def substract_2nd_from_1st_number(a,b):\n",
    "    c=a-b\n",
    "    return c\n",
    "print (substract_2nd_from_1st_number(6,3))\n"
   ]
  },
  {
   "cell_type": "markdown",
   "metadata": {},
   "source": [
    "Above, two inputs $\\boxed{6}$ $\\&$ $\\boxed{3}$ have been given in a function that is created to substract second number $\\boxed{3}$ from first number $\\boxed{6}$ . And which successfully yields output $\\boxed{3}$ as expected.\n"
   ]
  },
  {
   "cell_type": "markdown",
   "metadata": {},
   "source": [
    "${\\bf Multiplication}$ $=$ Multiple (Repeated) ${\\bf Addition}$. \n",
    "\n",
    "For example : $\\boxed{6+6+6=18}$, here $\\boxed{6}$ has been repeated 3 times, so it can be again found by $\\boxed{6*3=18}$.\n",
    "\n",
    "Let's make a function which will take two numbers and give the multiplication of them."
   ]
  },
  {
   "cell_type": "code",
   "execution_count": 5,
   "metadata": {},
   "outputs": [
    {
     "name": "stdout",
     "output_type": "stream",
     "text": [
      "18\n"
     ]
    }
   ],
   "source": [
    "def multiply_two_numbers(a,b):\n",
    "    c=a*b\n",
    "    return c\n",
    "print (multiply_two_numbers(6,3))"
   ]
  },
  {
   "cell_type": "markdown",
   "metadata": {},
   "source": [
    "Above, two inputs $\\boxed{6}$ $\\&$ $\\boxed{3}$ have been given in a function that is created to multiply two numbers. And which successfully yields output $\\boxed{18}$ as expected."
   ]
  },
  {
   "cell_type": "markdown",
   "metadata": {},
   "source": [
    "${\\bf Division}$ is breaking a number into certain equal parts. \n",
    "\n",
    "For example, $\\boxed{6 \\div 3 = 2}$. Here, $\\boxed{6}$ has been splitted into $\\boxed{3}$ equal parts of $\\boxed{2}$.\n",
    "\n",
    "Let's make a function which will take two numbers and give the division of second number from the first."
   ]
  },
  {
   "cell_type": "code",
   "execution_count": 6,
   "metadata": {},
   "outputs": [
    {
     "name": "stdout",
     "output_type": "stream",
     "text": [
      "2.0\n"
     ]
    }
   ],
   "source": [
    "def divide_2nd_from_1st_number(a,b):\n",
    "    c=a/b\n",
    "    return c\n",
    "print (divide_2nd_from_1st_number(6,3))"
   ]
  },
  {
   "cell_type": "markdown",
   "metadata": {},
   "source": [
    "Above, two inputs $\\boxed{6}$ $\\&$ $\\boxed{3}$ have been given in a function that is created to divide second number $\\boxed{3}$ from first number $\\boxed{6}$ . And which successfully yields output $\\boxed{2}$ as expected.\n"
   ]
  }
 ],
 "metadata": {
  "kernelspec": {
   "display_name": "Python 3",
   "language": "python",
   "name": "python3"
  },
  "language_info": {
   "codemirror_mode": {
    "name": "ipython",
    "version": 3
   },
   "file_extension": ".py",
   "mimetype": "text/x-python",
   "name": "python",
   "nbconvert_exporter": "python",
   "pygments_lexer": "ipython3",
   "version": "3.6.4"
  }
 },
 "nbformat": 4,
 "nbformat_minor": 2
}
