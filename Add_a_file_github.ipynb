{
 "cells": [
  {
   "cell_type": "markdown",
   "metadata": {},
   "source": [
    "# Creating Fork Repository, Push File to Fork and Pull Request to Owner  \n",
    "\n",
    "-Shomi Ahmed  \n",
    "\n",
    "**Creating Fork**  \n",
    "First of all go to [github](https://github.com) and then sign in/sign up. After that go to [callysto](https://github.com/callysto/callysto-sample-notebooks) and then click the \"Fork\" button. That will make a copy of the original for you.  \n",
    "\n",
    "**Installing git**  \n",
    "Download git from here [git](https://git-scm.com/downloads) and then install on your computer.  \n",
    "\n",
    "**Add File**  \n",
    "Let's say you have created a notebook and save it in your computer. Now you want to add this file to your remote fork repository.  \n",
    "\n",
    "You can do this by -  \n",
    "1. Open terminal in your computer.  \n",
    "1. **cd destination** - destination where you want to copy your remote repo.  \n",
    "1. **git clone https://github.com/USERNAME/FORK-OF-THE-REPOSITORY ** - just copy the home address of the fork repo.  \n",
    "1. copy/move the notebook into the repo.  \n",
    "1. **cd that folder** - go to the folder where you have copied the file.  \n",
    "1. **git add name_of_the_notebook** - name_of_the_notebook is the file name that you want to add  \n",
    "1. **git commit -m \"Write a description about the added notebook\"** - give a description of the file  \n",
    "1. **git push** (Here it will ask for username and pasword of your github accout.)  \n",
    "\n",
    "So, the notebook has been added to your remote fork repo.\n",
    "\n",
    "Now , you can request the original owner to publish your file by pull request. Go here [pull request](https://help.github.com/articles/creating-a-pull-request-from-a-fork/) for instructions."
   ]
  }
 ],
 "metadata": {
  "kernelspec": {
   "display_name": "Python 3",
   "language": "python",
   "name": "python3"
  },
  "language_info": {
   "codemirror_mode": {
    "name": "ipython",
    "version": 3
   },
   "file_extension": ".py",
   "mimetype": "text/x-python",
   "name": "python",
   "nbconvert_exporter": "python",
   "pygments_lexer": "ipython3",
   "version": "3.6.4"
  }
 },
 "nbformat": 4,
 "nbformat_minor": 2
}
